{
 "cells": [
  {
   "cell_type": "code",
   "execution_count": 1,
   "metadata": {},
   "outputs": [],
   "source": [
    "! pip install boto3 pymongo twitter --quiet"
   ]
  },
  {
   "cell_type": "code",
   "execution_count": 2,
   "metadata": {},
   "outputs": [],
   "source": [
    "from pymongo import MongoClient"
   ]
  },
  {
   "cell_type": "code",
   "execution_count": 3,
   "metadata": {},
   "outputs": [],
   "source": [
    "mongo_client = MongoClient('18.236.138.158', 27016)\n",
    "database_reference = mongo_client.twitter\n",
    "collection_reference = database_reference.tweets"
   ]
  },
  {
   "cell_type": "code",
   "execution_count": 4,
   "metadata": {},
   "outputs": [],
   "source": [
    "cursor = collection_reference.find()"
   ]
  },
  {
   "cell_type": "code",
   "execution_count": 5,
   "metadata": {},
   "outputs": [
    {
     "data": {
      "text/plain": [
       "{'_id': ObjectId('5b562057cfd9de0efb61d3b5'),\n",
       " 'created_at': 'Sat Jul 21 20:58:43 +0000 2018',\n",
       " 'id': 1020775097898917888,\n",
       " 'id_str': '1020775097898917888',\n",
       " 'text': 'Can’t wait to go home and play video games already smh',\n",
       " 'source': '<a href=\"http://twitter.com/download/iphone\" rel=\"nofollow\">Twitter for iPhone</a>',\n",
       " 'truncated': False,\n",
       " 'in_reply_to_status_id': None,\n",
       " 'in_reply_to_status_id_str': None,\n",
       " 'in_reply_to_user_id': None,\n",
       " 'in_reply_to_user_id_str': None,\n",
       " 'in_reply_to_screen_name': None,\n",
       " 'user': {'id': 3096943027,\n",
       "  'id_str': '3096943027',\n",
       "  'name': 'mattygeee',\n",
       "  'screen_name': 'Mattygeee1',\n",
       "  'location': 'Los Angeles, CA',\n",
       "  'url': None,\n",
       "  'description': None,\n",
       "  'translator_type': 'none',\n",
       "  'protected': False,\n",
       "  'verified': False,\n",
       "  'followers_count': 286,\n",
       "  'friends_count': 399,\n",
       "  'listed_count': 4,\n",
       "  'favourites_count': 7501,\n",
       "  'statuses_count': 17775,\n",
       "  'created_at': 'Thu Mar 19 01:14:05 +0000 2015',\n",
       "  'utc_offset': None,\n",
       "  'time_zone': None,\n",
       "  'geo_enabled': True,\n",
       "  'lang': 'en',\n",
       "  'contributors_enabled': False,\n",
       "  'is_translator': False,\n",
       "  'profile_background_color': '000000',\n",
       "  'profile_background_image_url': 'http://abs.twimg.com/images/themes/theme1/bg.png',\n",
       "  'profile_background_image_url_https': 'https://abs.twimg.com/images/themes/theme1/bg.png',\n",
       "  'profile_background_tile': False,\n",
       "  'profile_link_color': 'E81C4F',\n",
       "  'profile_sidebar_border_color': '000000',\n",
       "  'profile_sidebar_fill_color': '000000',\n",
       "  'profile_text_color': '000000',\n",
       "  'profile_use_background_image': False,\n",
       "  'profile_image_url': 'http://pbs.twimg.com/profile_images/976278641431650304/QDCKALf8_normal.jpg',\n",
       "  'profile_image_url_https': 'https://pbs.twimg.com/profile_images/976278641431650304/QDCKALf8_normal.jpg',\n",
       "  'profile_banner_url': 'https://pbs.twimg.com/profile_banners/3096943027/1522005281',\n",
       "  'default_profile': False,\n",
       "  'default_profile_image': False,\n",
       "  'following': None,\n",
       "  'follow_request_sent': None,\n",
       "  'notifications': None},\n",
       " 'geo': None,\n",
       " 'coordinates': None,\n",
       " 'place': {'id': '59612bd882018c51',\n",
       "  'url': 'https://api.twitter.com/1.1/geo/id/59612bd882018c51.json',\n",
       "  'place_type': 'city',\n",
       "  'name': 'Santa Monica',\n",
       "  'full_name': 'Santa Monica, CA',\n",
       "  'country_code': 'US',\n",
       "  'country': 'United States',\n",
       "  'bounding_box': {'type': 'Polygon',\n",
       "   'coordinates': [[[-118.517358, 33.995177],\n",
       "     [-118.517358, 34.050199],\n",
       "     [-118.443482, 34.050199],\n",
       "     [-118.443482, 33.995177]]]},\n",
       "  'attributes': {}},\n",
       " 'contributors': None,\n",
       " 'is_quote_status': False,\n",
       " 'quote_count': 0,\n",
       " 'reply_count': 0,\n",
       " 'retweet_count': 0,\n",
       " 'favorite_count': 0,\n",
       " 'entities': {'hashtags': [], 'urls': [], 'user_mentions': [], 'symbols': []},\n",
       " 'favorited': False,\n",
       " 'retweeted': False,\n",
       " 'filter_level': 'low',\n",
       " 'lang': 'en',\n",
       " 'timestamp_ms': '1532206723080'}"
      ]
     },
     "execution_count": 5,
     "metadata": {},
     "output_type": "execute_result"
    }
   ],
   "source": [
    "next(cursor)"
   ]
  },
  {
   "cell_type": "code",
   "execution_count": 6,
   "metadata": {},
   "outputs": [],
   "source": [
    "cursor = collection_reference.find()"
   ]
  },
  {
   "cell_type": "code",
   "execution_count": 7,
   "metadata": {},
   "outputs": [
    {
     "name": "stderr",
     "output_type": "stream",
     "text": [
      "/opt/conda/lib/python3.6/site-packages/ipykernel_launcher.py:1: DeprecationWarning: count is deprecated. Use Collection.count_documents instead.\n",
      "  \"\"\"Entry point for launching an IPython kernel.\n"
     ]
    },
    {
     "data": {
      "text/plain": [
       "11748"
      ]
     },
     "execution_count": 7,
     "metadata": {},
     "output_type": "execute_result"
    }
   ],
   "source": [
    "cursor.count()"
   ]
  },
  {
   "cell_type": "code",
   "execution_count": 9,
   "metadata": {},
   "outputs": [
    {
     "data": {
      "text/plain": [
       "11798"
      ]
     },
     "execution_count": 9,
     "metadata": {},
     "output_type": "execute_result"
    }
   ],
   "source": [
    "collection_reference.count_documents ({})"
   ]
  },
  {
   "cell_type": "code",
   "execution_count": 10,
   "metadata": {},
   "outputs": [
    {
     "data": {
      "text/plain": [
       "Collection(Database(MongoClient(host=['18.236.138.158:27016'], document_class=dict, tz_aware=False, connect=True), 'twitter'), 'tweets')"
      ]
     },
     "execution_count": 10,
     "metadata": {},
     "output_type": "execute_result"
    }
   ],
   "source": [
    "collection_reference"
   ]
  },
  {
   "cell_type": "code",
   "execution_count": null,
   "metadata": {},
   "outputs": [],
   "source": []
  },
  {
   "cell_type": "code",
   "execution_count": 11,
   "metadata": {},
   "outputs": [],
   "source": [
    "cursor_sampl = collection_reference.aggregate(\n",
    "    [{'$sample': {'size': 20}}]\n",
    ")"
   ]
  },
  {
   "cell_type": "code",
   "execution_count": 12,
   "metadata": {},
   "outputs": [
    {
     "data": {
      "text/plain": [
       "20"
      ]
     },
     "execution_count": 12,
     "metadata": {},
     "output_type": "execute_result"
    }
   ],
   "source": [
    "len(list(cursor_sampl)) "
   ]
  },
  {
   "cell_type": "code",
   "execution_count": 13,
   "metadata": {},
   "outputs": [
    {
     "ename": "StopIteration",
     "evalue": "",
     "output_type": "error",
     "traceback": [
      "\u001b[0;31m---------------------------------------------------------------------------\u001b[0m",
      "\u001b[0;31mStopIteration\u001b[0m                             Traceback (most recent call last)",
      "\u001b[0;32m<ipython-input-13-96be4d43b38c>\u001b[0m in \u001b[0;36m<module>\u001b[0;34m()\u001b[0m\n\u001b[0;32m----> 1\u001b[0;31m \u001b[0mnext\u001b[0m\u001b[0;34m(\u001b[0m\u001b[0mcursor_sampl\u001b[0m\u001b[0;34m)\u001b[0m\u001b[0;34m\u001b[0m\u001b[0m\n\u001b[0m",
      "\u001b[0;32m/opt/conda/lib/python3.6/site-packages/pymongo/command_cursor.py\u001b[0m in \u001b[0;36mnext\u001b[0;34m(self)\u001b[0m\n\u001b[1;32m    292\u001b[0m             \u001b[0;32mreturn\u001b[0m \u001b[0mcoll\u001b[0m\u001b[0;34m.\u001b[0m\u001b[0mdatabase\u001b[0m\u001b[0;34m.\u001b[0m\u001b[0m_fix_outgoing\u001b[0m\u001b[0;34m(\u001b[0m\u001b[0mself\u001b[0m\u001b[0;34m.\u001b[0m\u001b[0m__data\u001b[0m\u001b[0;34m.\u001b[0m\u001b[0mpopleft\u001b[0m\u001b[0;34m(\u001b[0m\u001b[0;34m)\u001b[0m\u001b[0;34m,\u001b[0m \u001b[0mcoll\u001b[0m\u001b[0;34m)\u001b[0m\u001b[0;34m\u001b[0m\u001b[0m\n\u001b[1;32m    293\u001b[0m         \u001b[0;32melse\u001b[0m\u001b[0;34m:\u001b[0m\u001b[0;34m\u001b[0m\u001b[0m\n\u001b[0;32m--> 294\u001b[0;31m             \u001b[0;32mraise\u001b[0m \u001b[0mStopIteration\u001b[0m\u001b[0;34m\u001b[0m\u001b[0m\n\u001b[0m\u001b[1;32m    295\u001b[0m \u001b[0;34m\u001b[0m\u001b[0m\n\u001b[1;32m    296\u001b[0m     \u001b[0m__next__\u001b[0m \u001b[0;34m=\u001b[0m \u001b[0mnext\u001b[0m\u001b[0;34m\u001b[0m\u001b[0m\n",
      "\u001b[0;31mStopIteration\u001b[0m: "
     ]
    }
   ],
   "source": [
    "next(cursor_sampl)"
   ]
  },
  {
   "cell_type": "code",
   "execution_count": null,
   "metadata": {},
   "outputs": [],
   "source": [
    "# this error is because the cursor is done...a mongo function also needs to ask for esach one with a next"
   ]
  },
  {
   "cell_type": "code",
   "execution_count": 14,
   "metadata": {},
   "outputs": [
    {
     "data": {
      "text/plain": [
       "0"
      ]
     },
     "execution_count": 14,
     "metadata": {},
     "output_type": "execute_result"
    }
   ],
   "source": [
    "len(list(cursor_sampl)) "
   ]
  },
  {
   "cell_type": "code",
   "execution_count": 15,
   "metadata": {},
   "outputs": [
    {
     "ename": "NameError",
     "evalue": "name 'tw_keys' is not defined",
     "output_type": "error",
     "traceback": [
      "\u001b[0;31m---------------------------------------------------------------------------\u001b[0m",
      "\u001b[0;31mNameError\u001b[0m                                 Traceback (most recent call last)",
      "\u001b[0;32m<ipython-input-15-4eaff7dc4479>\u001b[0m in \u001b[0;36m<module>\u001b[0;34m()\u001b[0m\n\u001b[0;32m----> 1\u001b[0;31m \u001b[0mtw_keys\u001b[0m\u001b[0;34m\u001b[0m\u001b[0m\n\u001b[0m",
      "\u001b[0;31mNameError\u001b[0m: name 'tw_keys' is not defined"
     ]
    }
   ],
   "source": [
    "tw_keys"
   ]
  },
  {
   "cell_type": "code",
   "execution_count": 16,
   "metadata": {},
   "outputs": [],
   "source": [
    "cursor_sampl = collection_reference.aggregate([{'$sample': {'size': 1}}])"
   ]
  },
  {
   "cell_type": "code",
   "execution_count": 17,
   "metadata": {},
   "outputs": [],
   "source": [
    "tw = next(cursor_sampl)"
   ]
  },
  {
   "cell_type": "code",
   "execution_count": 18,
   "metadata": {},
   "outputs": [
    {
     "data": {
      "text/plain": [
       "dict_keys(['_id', 'created_at', 'id', 'id_str', 'text', 'display_text_range', 'source', 'truncated', 'in_reply_to_status_id', 'in_reply_to_status_id_str', 'in_reply_to_user_id', 'in_reply_to_user_id_str', 'in_reply_to_screen_name', 'user', 'geo', 'coordinates', 'place', 'contributors', 'is_quote_status', 'extended_tweet', 'quote_count', 'reply_count', 'retweet_count', 'favorite_count', 'entities', 'favorited', 'retweeted', 'filter_level', 'lang', 'timestamp_ms'])"
      ]
     },
     "execution_count": 18,
     "metadata": {},
     "output_type": "execute_result"
    }
   ],
   "source": [
    "tw.keys()"
   ]
  },
  {
   "cell_type": "code",
   "execution_count": 19,
   "metadata": {},
   "outputs": [
    {
     "data": {
      "text/plain": [
       "[ObjectId('5b58c4c93aed5a010fe92174'),\n",
       " 'Wed Jul 25 18:38:48 +0000 2018',\n",
       " 1022189440310042624,\n",
       " '1022189440310042624',\n",
       " '@russbengtson Remember the Jordan 3 “went away” a few years back and it was supposed to be for something like 5 yea… https://t.co/PV1XVyImMm']"
      ]
     },
     "execution_count": 19,
     "metadata": {},
     "output_type": "execute_result"
    }
   ],
   "source": [
    "list(tw.values())[:5]"
   ]
  },
  {
   "cell_type": "code",
   "execution_count": 20,
   "metadata": {},
   "outputs": [],
   "source": [
    "import pandas as pd"
   ]
  },
  {
   "cell_type": "code",
   "execution_count": 21,
   "metadata": {},
   "outputs": [],
   "source": [
    "cursor = collection_reference.aggregate([{'$sample': {'size': 5}}])\n",
    "\n",
    "tw_sample_df = pd.DataFrame(list(cursor))"
   ]
  },
  {
   "cell_type": "code",
   "execution_count": 22,
   "metadata": {},
   "outputs": [
    {
     "data": {
      "text/plain": [
       "_id                           object\n",
       "contributors                  object\n",
       "coordinates                   object\n",
       "created_at                    object\n",
       "display_text_range            object\n",
       "entities                      object\n",
       "extended_tweet                object\n",
       "favorite_count                 int64\n",
       "favorited                       bool\n",
       "filter_level                  object\n",
       "geo                           object\n",
       "id                             int64\n",
       "id_str                        object\n",
       "in_reply_to_screen_name       object\n",
       "in_reply_to_status_id        float64\n",
       "in_reply_to_status_id_str     object\n",
       "in_reply_to_user_id          float64\n",
       "in_reply_to_user_id_str       object\n",
       "is_quote_status                 bool\n",
       "lang                          object\n",
       "place                         object\n",
       "possibly_sensitive            object\n",
       "quote_count                    int64\n",
       "quoted_status                 object\n",
       "quoted_status_id             float64\n",
       "quoted_status_id_str          object\n",
       "quoted_status_permalink       object\n",
       "reply_count                    int64\n",
       "retweet_count                  int64\n",
       "retweeted                       bool\n",
       "source                        object\n",
       "text                          object\n",
       "timestamp_ms                  object\n",
       "truncated                       bool\n",
       "user                          object\n",
       "dtype: object"
      ]
     },
     "execution_count": 22,
     "metadata": {},
     "output_type": "execute_result"
    }
   ],
   "source": [
    "tw_sample_df.dtypes"
   ]
  },
  {
   "cell_type": "code",
   "execution_count": 23,
   "metadata": {},
   "outputs": [
    {
     "data": {
      "text/html": [
       "<div>\n",
       "<style scoped>\n",
       "    .dataframe tbody tr th:only-of-type {\n",
       "        vertical-align: middle;\n",
       "    }\n",
       "\n",
       "    .dataframe tbody tr th {\n",
       "        vertical-align: top;\n",
       "    }\n",
       "\n",
       "    .dataframe thead th {\n",
       "        text-align: right;\n",
       "    }\n",
       "</style>\n",
       "<table border=\"1\" class=\"dataframe\">\n",
       "  <thead>\n",
       "    <tr style=\"text-align: right;\">\n",
       "      <th></th>\n",
       "      <th>favorite_count</th>\n",
       "      <th>id</th>\n",
       "      <th>quote_count</th>\n",
       "      <th>reply_count</th>\n",
       "      <th>retweet_count</th>\n",
       "    </tr>\n",
       "  </thead>\n",
       "  <tbody>\n",
       "    <tr>\n",
       "      <th>0</th>\n",
       "      <td>0</td>\n",
       "      <td>1022182070984957952</td>\n",
       "      <td>0</td>\n",
       "      <td>0</td>\n",
       "      <td>0</td>\n",
       "    </tr>\n",
       "    <tr>\n",
       "      <th>1</th>\n",
       "      <td>0</td>\n",
       "      <td>1022163427223990272</td>\n",
       "      <td>0</td>\n",
       "      <td>0</td>\n",
       "      <td>0</td>\n",
       "    </tr>\n",
       "    <tr>\n",
       "      <th>2</th>\n",
       "      <td>0</td>\n",
       "      <td>1022174176457646080</td>\n",
       "      <td>0</td>\n",
       "      <td>0</td>\n",
       "      <td>0</td>\n",
       "    </tr>\n",
       "    <tr>\n",
       "      <th>3</th>\n",
       "      <td>0</td>\n",
       "      <td>1022162933101416448</td>\n",
       "      <td>0</td>\n",
       "      <td>0</td>\n",
       "      <td>0</td>\n",
       "    </tr>\n",
       "    <tr>\n",
       "      <th>4</th>\n",
       "      <td>0</td>\n",
       "      <td>1022174939355344896</td>\n",
       "      <td>0</td>\n",
       "      <td>0</td>\n",
       "      <td>0</td>\n",
       "    </tr>\n",
       "  </tbody>\n",
       "</table>\n",
       "</div>"
      ],
      "text/plain": [
       "   favorite_count                   id  quote_count  reply_count  \\\n",
       "0               0  1022182070984957952            0            0   \n",
       "1               0  1022163427223990272            0            0   \n",
       "2               0  1022174176457646080            0            0   \n",
       "3               0  1022162933101416448            0            0   \n",
       "4               0  1022174939355344896            0            0   \n",
       "\n",
       "   retweet_count  \n",
       "0              0  \n",
       "1              0  \n",
       "2              0  \n",
       "3              0  \n",
       "4              0  "
      ]
     },
     "execution_count": 23,
     "metadata": {},
     "output_type": "execute_result"
    }
   ],
   "source": [
    "tw_sample_df.select_dtypes([int])"
   ]
  },
  {
   "cell_type": "code",
   "execution_count": 24,
   "metadata": {},
   "outputs": [
    {
     "data": {
      "text/html": [
       "<div>\n",
       "<style scoped>\n",
       "    .dataframe tbody tr th:only-of-type {\n",
       "        vertical-align: middle;\n",
       "    }\n",
       "\n",
       "    .dataframe tbody tr th {\n",
       "        vertical-align: top;\n",
       "    }\n",
       "\n",
       "    .dataframe thead th {\n",
       "        text-align: right;\n",
       "    }\n",
       "</style>\n",
       "<table border=\"1\" class=\"dataframe\">\n",
       "  <thead>\n",
       "    <tr style=\"text-align: right;\">\n",
       "      <th></th>\n",
       "      <th>in_reply_to_status_id</th>\n",
       "      <th>in_reply_to_user_id</th>\n",
       "      <th>quoted_status_id</th>\n",
       "    </tr>\n",
       "  </thead>\n",
       "  <tbody>\n",
       "    <tr>\n",
       "      <th>0</th>\n",
       "      <td>NaN</td>\n",
       "      <td>NaN</td>\n",
       "      <td>NaN</td>\n",
       "    </tr>\n",
       "    <tr>\n",
       "      <th>1</th>\n",
       "      <td>NaN</td>\n",
       "      <td>NaN</td>\n",
       "      <td>NaN</td>\n",
       "    </tr>\n",
       "    <tr>\n",
       "      <th>2</th>\n",
       "      <td>NaN</td>\n",
       "      <td>NaN</td>\n",
       "      <td>1.022092e+18</td>\n",
       "    </tr>\n",
       "    <tr>\n",
       "      <th>3</th>\n",
       "      <td>1.022143e+18</td>\n",
       "      <td>172958817.0</td>\n",
       "      <td>NaN</td>\n",
       "    </tr>\n",
       "    <tr>\n",
       "      <th>4</th>\n",
       "      <td>NaN</td>\n",
       "      <td>22523741.0</td>\n",
       "      <td>NaN</td>\n",
       "    </tr>\n",
       "  </tbody>\n",
       "</table>\n",
       "</div>"
      ],
      "text/plain": [
       "   in_reply_to_status_id  in_reply_to_user_id  quoted_status_id\n",
       "0                    NaN                  NaN               NaN\n",
       "1                    NaN                  NaN               NaN\n",
       "2                    NaN                  NaN      1.022092e+18\n",
       "3           1.022143e+18          172958817.0               NaN\n",
       "4                    NaN           22523741.0               NaN"
      ]
     },
     "execution_count": 24,
     "metadata": {},
     "output_type": "execute_result"
    }
   ],
   "source": [
    "tw_sample_df.select_dtypes([float])"
   ]
  },
  {
   "cell_type": "code",
   "execution_count": 25,
   "metadata": {
    "scrolled": false
   },
   "outputs": [
    {
     "data": {
      "text/html": [
       "<div>\n",
       "<style scoped>\n",
       "    .dataframe tbody tr th:only-of-type {\n",
       "        vertical-align: middle;\n",
       "    }\n",
       "\n",
       "    .dataframe tbody tr th {\n",
       "        vertical-align: top;\n",
       "    }\n",
       "\n",
       "    .dataframe thead th {\n",
       "        text-align: right;\n",
       "    }\n",
       "</style>\n",
       "<table border=\"1\" class=\"dataframe\">\n",
       "  <thead>\n",
       "    <tr style=\"text-align: right;\">\n",
       "      <th></th>\n",
       "      <th>_id</th>\n",
       "      <th>contributors</th>\n",
       "      <th>coordinates</th>\n",
       "      <th>created_at</th>\n",
       "      <th>display_text_range</th>\n",
       "      <th>entities</th>\n",
       "      <th>extended_tweet</th>\n",
       "      <th>filter_level</th>\n",
       "      <th>geo</th>\n",
       "      <th>id_str</th>\n",
       "      <th>...</th>\n",
       "      <th>lang</th>\n",
       "      <th>place</th>\n",
       "      <th>possibly_sensitive</th>\n",
       "      <th>quoted_status</th>\n",
       "      <th>quoted_status_id_str</th>\n",
       "      <th>quoted_status_permalink</th>\n",
       "      <th>source</th>\n",
       "      <th>text</th>\n",
       "      <th>timestamp_ms</th>\n",
       "      <th>user</th>\n",
       "    </tr>\n",
       "  </thead>\n",
       "  <tbody>\n",
       "    <tr>\n",
       "      <th>0</th>\n",
       "      <td>5b58bddc3aed5a010fe91c37</td>\n",
       "      <td>None</td>\n",
       "      <td>None</td>\n",
       "      <td>Wed Jul 25 18:09:31 +0000 2018</td>\n",
       "      <td>NaN</td>\n",
       "      <td>{'hashtags': [], 'urls': [], 'user_mentions': ...</td>\n",
       "      <td>NaN</td>\n",
       "      <td>low</td>\n",
       "      <td>None</td>\n",
       "      <td>1022182070984957952</td>\n",
       "      <td>...</td>\n",
       "      <td>en</td>\n",
       "      <td>{'id': '3b77caf94bfc81fe', 'url': 'https://api...</td>\n",
       "      <td>NaN</td>\n",
       "      <td>NaN</td>\n",
       "      <td>NaN</td>\n",
       "      <td>NaN</td>\n",
       "      <td>&lt;a href=\"http://twitter.com/download/iphone\" r...</td>\n",
       "      <td>When your bf and friend are on the way back fr...</td>\n",
       "      <td>1532542171604</td>\n",
       "      <td>{'id': 428883047, 'id_str': '428883047', 'name...</td>\n",
       "    </tr>\n",
       "    <tr>\n",
       "      <th>1</th>\n",
       "      <td>5b58ac823aed5a010fe90d90</td>\n",
       "      <td>None</td>\n",
       "      <td>None</td>\n",
       "      <td>Wed Jul 25 16:55:26 +0000 2018</td>\n",
       "      <td>[0, 140]</td>\n",
       "      <td>{'hashtags': [{'text': 'booktoday', 'indices':...</td>\n",
       "      <td>{'full_text': '25% Students and Parents. #book...</td>\n",
       "      <td>low</td>\n",
       "      <td>None</td>\n",
       "      <td>1022163427223990272</td>\n",
       "      <td>...</td>\n",
       "      <td>en</td>\n",
       "      <td>{'id': '3b77caf94bfc81fe', 'url': 'https://api...</td>\n",
       "      <td>False</td>\n",
       "      <td>NaN</td>\n",
       "      <td>NaN</td>\n",
       "      <td>NaN</td>\n",
       "      <td>&lt;a href=\"http://twitter.com/download/android\" ...</td>\n",
       "      <td>25% Students and Parents. #booktoday #headshot...</td>\n",
       "      <td>1532537726585</td>\n",
       "      <td>{'id': 2664338222, 'id_str': '2664338222', 'na...</td>\n",
       "    </tr>\n",
       "    <tr>\n",
       "      <th>2</th>\n",
       "      <td>5b58b6b53aed5a010fe915fd</td>\n",
       "      <td>None</td>\n",
       "      <td>None</td>\n",
       "      <td>Wed Jul 25 17:38:09 +0000 2018</td>\n",
       "      <td>[0, 27]</td>\n",
       "      <td>{'hashtags': [], 'urls': [{'url': 'https://t.c...</td>\n",
       "      <td>NaN</td>\n",
       "      <td>low</td>\n",
       "      <td>None</td>\n",
       "      <td>1022174176457646080</td>\n",
       "      <td>...</td>\n",
       "      <td>en</td>\n",
       "      <td>{'id': '3b77caf94bfc81fe', 'url': 'https://api...</td>\n",
       "      <td>False</td>\n",
       "      <td>{'created_at': 'Wed Jul 25 12:12:05 +0000 2018...</td>\n",
       "      <td>1022092118226071559</td>\n",
       "      <td>{'url': 'https://t.co/LPnnvICO3R', 'expanded':...</td>\n",
       "      <td>&lt;a href=\"http://twitter.com/download/iphone\" r...</td>\n",
       "      <td>I will always choose game s https://t.co/LPnnv...</td>\n",
       "      <td>1532540289402</td>\n",
       "      <td>{'id': 3307600435, 'id_str': '3307600435', 'na...</td>\n",
       "    </tr>\n",
       "    <tr>\n",
       "      <th>3</th>\n",
       "      <td>5b58ac383aed5a010fe90d39</td>\n",
       "      <td>None</td>\n",
       "      <td>None</td>\n",
       "      <td>Wed Jul 25 16:53:28 +0000 2018</td>\n",
       "      <td>[12, 140]</td>\n",
       "      <td>{'hashtags': [], 'urls': [{'url': 'https://t.c...</td>\n",
       "      <td>{'full_text': '@DLF_JaronF Naw it def doesn’t....</td>\n",
       "      <td>low</td>\n",
       "      <td>None</td>\n",
       "      <td>1022162933101416448</td>\n",
       "      <td>...</td>\n",
       "      <td>en</td>\n",
       "      <td>{'id': '3b77caf94bfc81fe', 'url': 'https://api...</td>\n",
       "      <td>NaN</td>\n",
       "      <td>NaN</td>\n",
       "      <td>NaN</td>\n",
       "      <td>NaN</td>\n",
       "      <td>&lt;a href=\"http://twitter.com/download/iphone\" r...</td>\n",
       "      <td>@DLF_JaronF Naw it def doesn’t. But Rays basic...</td>\n",
       "      <td>1532537608777</td>\n",
       "      <td>{'id': 585391355, 'id_str': '585391355', 'name...</td>\n",
       "    </tr>\n",
       "    <tr>\n",
       "      <th>4</th>\n",
       "      <td>5b58b74f3aed5a010fe916a2</td>\n",
       "      <td>None</td>\n",
       "      <td>None</td>\n",
       "      <td>Wed Jul 25 17:41:11 +0000 2018</td>\n",
       "      <td>NaN</td>\n",
       "      <td>{'hashtags': [], 'urls': [], 'user_mentions': ...</td>\n",
       "      <td>NaN</td>\n",
       "      <td>low</td>\n",
       "      <td>None</td>\n",
       "      <td>1022174939355344896</td>\n",
       "      <td>...</td>\n",
       "      <td>en</td>\n",
       "      <td>{'id': '3b77caf94bfc81fe', 'url': 'https://api...</td>\n",
       "      <td>NaN</td>\n",
       "      <td>NaN</td>\n",
       "      <td>NaN</td>\n",
       "      <td>NaN</td>\n",
       "      <td>&lt;a href=\"http://twitter.com/download/iphone\" r...</td>\n",
       "      <td>@LZGranderson @SedanoESPN y’all need to listen...</td>\n",
       "      <td>1532540471291</td>\n",
       "      <td>{'id': 274591457, 'id_str': '274591457', 'name...</td>\n",
       "    </tr>\n",
       "  </tbody>\n",
       "</table>\n",
       "<p>5 rows × 23 columns</p>\n",
       "</div>"
      ],
      "text/plain": [
       "                        _id contributors coordinates  \\\n",
       "0  5b58bddc3aed5a010fe91c37         None        None   \n",
       "1  5b58ac823aed5a010fe90d90         None        None   \n",
       "2  5b58b6b53aed5a010fe915fd         None        None   \n",
       "3  5b58ac383aed5a010fe90d39         None        None   \n",
       "4  5b58b74f3aed5a010fe916a2         None        None   \n",
       "\n",
       "                       created_at display_text_range  \\\n",
       "0  Wed Jul 25 18:09:31 +0000 2018                NaN   \n",
       "1  Wed Jul 25 16:55:26 +0000 2018           [0, 140]   \n",
       "2  Wed Jul 25 17:38:09 +0000 2018            [0, 27]   \n",
       "3  Wed Jul 25 16:53:28 +0000 2018          [12, 140]   \n",
       "4  Wed Jul 25 17:41:11 +0000 2018                NaN   \n",
       "\n",
       "                                            entities  \\\n",
       "0  {'hashtags': [], 'urls': [], 'user_mentions': ...   \n",
       "1  {'hashtags': [{'text': 'booktoday', 'indices':...   \n",
       "2  {'hashtags': [], 'urls': [{'url': 'https://t.c...   \n",
       "3  {'hashtags': [], 'urls': [{'url': 'https://t.c...   \n",
       "4  {'hashtags': [], 'urls': [], 'user_mentions': ...   \n",
       "\n",
       "                                      extended_tweet filter_level   geo  \\\n",
       "0                                                NaN          low  None   \n",
       "1  {'full_text': '25% Students and Parents. #book...          low  None   \n",
       "2                                                NaN          low  None   \n",
       "3  {'full_text': '@DLF_JaronF Naw it def doesn’t....          low  None   \n",
       "4                                                NaN          low  None   \n",
       "\n",
       "                id_str                        ...                          \\\n",
       "0  1022182070984957952                        ...                           \n",
       "1  1022163427223990272                        ...                           \n",
       "2  1022174176457646080                        ...                           \n",
       "3  1022162933101416448                        ...                           \n",
       "4  1022174939355344896                        ...                           \n",
       "\n",
       "  lang                                              place possibly_sensitive  \\\n",
       "0   en  {'id': '3b77caf94bfc81fe', 'url': 'https://api...                NaN   \n",
       "1   en  {'id': '3b77caf94bfc81fe', 'url': 'https://api...              False   \n",
       "2   en  {'id': '3b77caf94bfc81fe', 'url': 'https://api...              False   \n",
       "3   en  {'id': '3b77caf94bfc81fe', 'url': 'https://api...                NaN   \n",
       "4   en  {'id': '3b77caf94bfc81fe', 'url': 'https://api...                NaN   \n",
       "\n",
       "                                       quoted_status quoted_status_id_str  \\\n",
       "0                                                NaN                  NaN   \n",
       "1                                                NaN                  NaN   \n",
       "2  {'created_at': 'Wed Jul 25 12:12:05 +0000 2018...  1022092118226071559   \n",
       "3                                                NaN                  NaN   \n",
       "4                                                NaN                  NaN   \n",
       "\n",
       "                             quoted_status_permalink  \\\n",
       "0                                                NaN   \n",
       "1                                                NaN   \n",
       "2  {'url': 'https://t.co/LPnnvICO3R', 'expanded':...   \n",
       "3                                                NaN   \n",
       "4                                                NaN   \n",
       "\n",
       "                                              source  \\\n",
       "0  <a href=\"http://twitter.com/download/iphone\" r...   \n",
       "1  <a href=\"http://twitter.com/download/android\" ...   \n",
       "2  <a href=\"http://twitter.com/download/iphone\" r...   \n",
       "3  <a href=\"http://twitter.com/download/iphone\" r...   \n",
       "4  <a href=\"http://twitter.com/download/iphone\" r...   \n",
       "\n",
       "                                                text   timestamp_ms  \\\n",
       "0  When your bf and friend are on the way back fr...  1532542171604   \n",
       "1  25% Students and Parents. #booktoday #headshot...  1532537726585   \n",
       "2  I will always choose game s https://t.co/LPnnv...  1532540289402   \n",
       "3  @DLF_JaronF Naw it def doesn’t. But Rays basic...  1532537608777   \n",
       "4  @LZGranderson @SedanoESPN y’all need to listen...  1532540471291   \n",
       "\n",
       "                                                user  \n",
       "0  {'id': 428883047, 'id_str': '428883047', 'name...  \n",
       "1  {'id': 2664338222, 'id_str': '2664338222', 'na...  \n",
       "2  {'id': 3307600435, 'id_str': '3307600435', 'na...  \n",
       "3  {'id': 585391355, 'id_str': '585391355', 'name...  \n",
       "4  {'id': 274591457, 'id_str': '274591457', 'name...  \n",
       "\n",
       "[5 rows x 23 columns]"
      ]
     },
     "execution_count": 25,
     "metadata": {},
     "output_type": "execute_result"
    }
   ],
   "source": [
    "tw_sample_df.select_dtypes(['object'])"
   ]
  },
  {
   "cell_type": "code",
   "execution_count": 26,
   "metadata": {},
   "outputs": [],
   "source": [
    "tw_sample_df['created_at'] = pd.to_datetime(tw_sample_df['created_at'])"
   ]
  },
  {
   "cell_type": "code",
   "execution_count": 27,
   "metadata": {},
   "outputs": [
    {
     "data": {
      "text/plain": [
       "0   2018-07-25 18:09:31\n",
       "1   2018-07-25 16:55:26\n",
       "2   2018-07-25 17:38:09\n",
       "3   2018-07-25 16:53:28\n",
       "4   2018-07-25 17:41:11\n",
       "Name: created_at, dtype: datetime64[ns]"
      ]
     },
     "execution_count": 27,
     "metadata": {},
     "output_type": "execute_result"
    }
   ],
   "source": [
    "tw_sample_df.created_at"
   ]
  },
  {
   "cell_type": "markdown",
   "metadata": {},
   "source": [
    "## Tweets Containing Geo Information"
   ]
  },
  {
   "cell_type": "code",
   "execution_count": 28,
   "metadata": {},
   "outputs": [
    {
     "data": {
      "text/plain": [
       "<pymongo.cursor.Cursor at 0x7fae5f05ed30>"
      ]
     },
     "execution_count": 28,
     "metadata": {},
     "output_type": "execute_result"
    }
   ],
   "source": [
    "contain_geo_search = collection_reference.find({'geo' : { '$ne' : None}})\n",
    "contain_geo_search"
   ]
  },
  {
   "cell_type": "code",
   "execution_count": 29,
   "metadata": {},
   "outputs": [
    {
     "data": {
      "text/plain": [
       "1581"
      ]
     },
     "execution_count": 29,
     "metadata": {},
     "output_type": "execute_result"
    }
   ],
   "source": [
    "collection_reference.count_documents({'geo' : { '$ne' : None}})"
   ]
  },
  {
   "cell_type": "markdown",
   "metadata": {},
   "source": [
    "## Distinct Users\n",
    "\n",
    "#### TRY THIS"
   ]
  },
  {
   "cell_type": "code",
   "execution_count": 31,
   "metadata": {},
   "outputs": [
    {
     "data": {
      "text/plain": [
       "12528"
      ]
     },
     "execution_count": 31,
     "metadata": {},
     "output_type": "execute_result"
    }
   ],
   "source": [
    "len(collection_reference.distinct('user'))"
   ]
  },
  {
   "cell_type": "code",
   "execution_count": 33,
   "metadata": {},
   "outputs": [
    {
     "data": {
      "text/plain": [
       "13248"
      ]
     },
     "execution_count": 33,
     "metadata": {},
     "output_type": "execute_result"
    }
   ],
   "source": [
    "# how many users\n",
    "collection_reference.count_documents({})\n"
   ]
  },
  {
   "cell_type": "code",
   "execution_count": null,
   "metadata": {},
   "outputs": [],
   "source": []
  }
 ],
 "metadata": {
  "kernelspec": {
   "display_name": "Python 3",
   "language": "python",
   "name": "python3"
  },
  "language_info": {
   "codemirror_mode": {
    "name": "ipython",
    "version": 3
   },
   "file_extension": ".py",
   "mimetype": "text/x-python",
   "name": "python",
   "nbconvert_exporter": "python",
   "pygments_lexer": "ipython3",
   "version": "3.6.5"
  }
 },
 "nbformat": 4,
 "nbformat_minor": 2
}
